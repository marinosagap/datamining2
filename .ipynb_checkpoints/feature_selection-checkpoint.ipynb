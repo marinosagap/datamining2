{
 "cells": [
  {
   "cell_type": "markdown",
   "metadata": {},
   "source": [
    "# Part 3 -- Feature Selection"
   ]
  },
  {
   "cell_type": "markdown",
   "metadata": {},
   "source": [
    "The libraries that we are going to use:"
   ]
  },
  {
   "cell_type": "code",
   "execution_count": 17,
   "metadata": {
    "collapsed": true
   },
   "outputs": [],
   "source": [
    "import pandas as pd \n",
    "import math\n",
    "from math import log\n",
    "from sklearn.naive_bayes import MultinomialNB, BernoulliNB\n",
    "from sklearn.feature_extraction.text import TfidfTransformer\n",
    "from sklearn.feature_extraction.text import CountVectorizer\n",
    "import numpy as np\n",
    "from sklearn import svm\n",
    "from sklearn.ensemble import RandomForestClassifier, ExtraTreesClassifier\n",
    "from sklearn.metrics import classification_report, accuracy_score, auc\n",
    "from sklearn.model_selection import KFold\n",
    "from sklearn.decomposition import TruncatedSVD\n",
    "from sklearn.linear_model import SGDClassifier\n",
    "from sklearn import metrics\n",
    "import matplotlib.pyplot as plt1\n",
    "import matplotlib.pyplot as plt2\n",
    "\n",
    "from wordcloud import STOPWORDS\n",
    "from sklearn.feature_extraction.text import ENGLISH_STOP_WORDS\n",
    "import csv\n",
    "import random\n",
    "import math\n",
    "import operator\n",
    "from operator import itemgetter\n",
    "from collections import Counter"
   ]
  },
  {
   "cell_type": "markdown",
   "metadata": {},
   "source": [
    "We read our training and testing data:"
   ]
  },
  {
   "cell_type": "code",
   "execution_count": 18,
   "metadata": {
    "collapsed": true
   },
   "outputs": [],
   "source": [
    "Train_data = pd.read_csv(sep='\\t',filepath_or_buffer='train.tsv')\n",
    "Test_data = pd.read_csv(sep='\\t',filepath_or_buffer='test.tsv')\n",
    "target = Train_data['Label']"
   ]
  },
  {
   "cell_type": "markdown",
   "metadata": {},
   "source": [
    "### Our Cross-Validation function"
   ]
  },
  {
   "cell_type": "code",
   "execution_count": 19,
   "metadata": {
    "collapsed": true
   },
   "outputs": [],
   "source": [
    "cross_val_instance = 0\n",
    "\n",
    "def cross_validate(clf,train_data,target_data):\n",
    "    global cross_val_instance    # Needed to modify global copy of a global variable\n",
    "    \n",
    "    kf = KFold(n_splits=10)\n",
    "    average_accuracy =0\n",
    "    fold = 0\n",
    "    for train_index, test_index in kf.split(train_data):\n",
    "        cross_val_instance += 1\n",
    "      \n",
    "        test = train_data.loc[test_index, train_data.columns]\n",
    "        train = train_data.loc[train_index, train_data.columns]\n",
    "        target = target_data[train_index]\n",
    "        clf_cv = clf.fit(train, target)\n",
    "        yPred = clf_cv.predict(test)\n",
    "        fold += 1\n",
    "        print (\"Fold \" + str(fold)+\"\\n\\n\")\n",
    "        target = target_data[test_index]\n",
    "        accuracy = accuracy_score(target, yPred)\n",
    "        # mylist['Accuracy'].append(accuracy)\n",
    "        print(\"Accuracy: \", accuracy)\n",
    "        average_accuracy+= accuracy\n",
    "    average_accuracy = average_accuracy/10\n",
    "    print(\"Average accuracy = \",average_accuracy)\n",
    "    return average_accuracy\n",
    "        "
   ]
  },
  {
   "cell_type": "code",
   "execution_count": 20,
   "metadata": {
    "collapsed": false
   },
   "outputs": [
    {
     "data": {
      "text/html": [
       "<div>\n",
       "<table border=\"1\" class=\"dataframe\">\n",
       "  <thead>\n",
       "    <tr style=\"text-align: right;\">\n",
       "      <th></th>\n",
       "      <th>Attribute1</th>\n",
       "      <th>Attribute2</th>\n",
       "      <th>Attribute3</th>\n",
       "      <th>Attribute4</th>\n",
       "      <th>Attribute5</th>\n",
       "      <th>Attribute6</th>\n",
       "      <th>Attribute7</th>\n",
       "      <th>Attribute8</th>\n",
       "      <th>Attribute9</th>\n",
       "      <th>Attribute10</th>\n",
       "      <th>...</th>\n",
       "      <th>Attribute13</th>\n",
       "      <th>Attribute14</th>\n",
       "      <th>Attribute15</th>\n",
       "      <th>Attribute16</th>\n",
       "      <th>Attribute17</th>\n",
       "      <th>Attribute18</th>\n",
       "      <th>Attribute19</th>\n",
       "      <th>Attribute20</th>\n",
       "      <th>Label</th>\n",
       "      <th>Id</th>\n",
       "    </tr>\n",
       "  </thead>\n",
       "  <tbody>\n",
       "    <tr>\n",
       "      <th>0</th>\n",
       "      <td>A11</td>\n",
       "      <td>6</td>\n",
       "      <td>A34</td>\n",
       "      <td>A43</td>\n",
       "      <td>1169</td>\n",
       "      <td>A65</td>\n",
       "      <td>A75</td>\n",
       "      <td>4</td>\n",
       "      <td>A93</td>\n",
       "      <td>A101</td>\n",
       "      <td>...</td>\n",
       "      <td>67</td>\n",
       "      <td>A143</td>\n",
       "      <td>A152</td>\n",
       "      <td>2</td>\n",
       "      <td>A173</td>\n",
       "      <td>1</td>\n",
       "      <td>A192</td>\n",
       "      <td>A201</td>\n",
       "      <td>1</td>\n",
       "      <td>10101</td>\n",
       "    </tr>\n",
       "    <tr>\n",
       "      <th>1</th>\n",
       "      <td>A12</td>\n",
       "      <td>48</td>\n",
       "      <td>A32</td>\n",
       "      <td>A43</td>\n",
       "      <td>5951</td>\n",
       "      <td>A61</td>\n",
       "      <td>A73</td>\n",
       "      <td>2</td>\n",
       "      <td>A92</td>\n",
       "      <td>A101</td>\n",
       "      <td>...</td>\n",
       "      <td>22</td>\n",
       "      <td>A143</td>\n",
       "      <td>A152</td>\n",
       "      <td>1</td>\n",
       "      <td>A173</td>\n",
       "      <td>1</td>\n",
       "      <td>A191</td>\n",
       "      <td>A201</td>\n",
       "      <td>2</td>\n",
       "      <td>10102</td>\n",
       "    </tr>\n",
       "    <tr>\n",
       "      <th>2</th>\n",
       "      <td>A14</td>\n",
       "      <td>12</td>\n",
       "      <td>A34</td>\n",
       "      <td>A46</td>\n",
       "      <td>2096</td>\n",
       "      <td>A61</td>\n",
       "      <td>A74</td>\n",
       "      <td>2</td>\n",
       "      <td>A93</td>\n",
       "      <td>A101</td>\n",
       "      <td>...</td>\n",
       "      <td>49</td>\n",
       "      <td>A143</td>\n",
       "      <td>A152</td>\n",
       "      <td>1</td>\n",
       "      <td>A172</td>\n",
       "      <td>2</td>\n",
       "      <td>A191</td>\n",
       "      <td>A201</td>\n",
       "      <td>1</td>\n",
       "      <td>10103</td>\n",
       "    </tr>\n",
       "    <tr>\n",
       "      <th>3</th>\n",
       "      <td>A11</td>\n",
       "      <td>42</td>\n",
       "      <td>A32</td>\n",
       "      <td>A42</td>\n",
       "      <td>7882</td>\n",
       "      <td>A61</td>\n",
       "      <td>A74</td>\n",
       "      <td>2</td>\n",
       "      <td>A93</td>\n",
       "      <td>A103</td>\n",
       "      <td>...</td>\n",
       "      <td>45</td>\n",
       "      <td>A143</td>\n",
       "      <td>A153</td>\n",
       "      <td>1</td>\n",
       "      <td>A173</td>\n",
       "      <td>2</td>\n",
       "      <td>A191</td>\n",
       "      <td>A201</td>\n",
       "      <td>1</td>\n",
       "      <td>10104</td>\n",
       "    </tr>\n",
       "    <tr>\n",
       "      <th>4</th>\n",
       "      <td>A11</td>\n",
       "      <td>24</td>\n",
       "      <td>A33</td>\n",
       "      <td>A40</td>\n",
       "      <td>4870</td>\n",
       "      <td>A61</td>\n",
       "      <td>A73</td>\n",
       "      <td>3</td>\n",
       "      <td>A93</td>\n",
       "      <td>A101</td>\n",
       "      <td>...</td>\n",
       "      <td>53</td>\n",
       "      <td>A143</td>\n",
       "      <td>A153</td>\n",
       "      <td>2</td>\n",
       "      <td>A173</td>\n",
       "      <td>2</td>\n",
       "      <td>A191</td>\n",
       "      <td>A201</td>\n",
       "      <td>2</td>\n",
       "      <td>10105</td>\n",
       "    </tr>\n",
       "  </tbody>\n",
       "</table>\n",
       "<p>5 rows × 22 columns</p>\n",
       "</div>"
      ],
      "text/plain": [
       "  Attribute1  Attribute2 Attribute3 Attribute4  Attribute5 Attribute6  \\\n",
       "0        A11           6        A34        A43        1169        A65   \n",
       "1        A12          48        A32        A43        5951        A61   \n",
       "2        A14          12        A34        A46        2096        A61   \n",
       "3        A11          42        A32        A42        7882        A61   \n",
       "4        A11          24        A33        A40        4870        A61   \n",
       "\n",
       "  Attribute7  Attribute8 Attribute9 Attribute10  ...    Attribute13  \\\n",
       "0        A75           4        A93        A101  ...             67   \n",
       "1        A73           2        A92        A101  ...             22   \n",
       "2        A74           2        A93        A101  ...             49   \n",
       "3        A74           2        A93        A103  ...             45   \n",
       "4        A73           3        A93        A101  ...             53   \n",
       "\n",
       "  Attribute14  Attribute15 Attribute16 Attribute17  Attribute18 Attribute19  \\\n",
       "0        A143         A152           2        A173            1        A192   \n",
       "1        A143         A152           1        A173            1        A191   \n",
       "2        A143         A152           1        A172            2        A191   \n",
       "3        A143         A153           1        A173            2        A191   \n",
       "4        A143         A153           2        A173            2        A191   \n",
       "\n",
       "   Attribute20 Label     Id  \n",
       "0         A201     1  10101  \n",
       "1         A201     2  10102  \n",
       "2         A201     1  10103  \n",
       "3         A201     1  10104  \n",
       "4         A201     2  10105  \n",
       "\n",
       "[5 rows x 22 columns]"
      ]
     },
     "execution_count": 20,
     "metadata": {},
     "output_type": "execute_result"
    }
   ],
   "source": [
    "Train_data.head()"
   ]
  },
  {
   "cell_type": "markdown",
   "metadata": {},
   "source": [
    "## Data preprocessing"
   ]
  },
  {
   "cell_type": "code",
   "execution_count": 21,
   "metadata": {
    "collapsed": false
   },
   "outputs": [
    {
     "name": "stdout",
     "output_type": "stream",
     "text": [
      "     Attribute1  Attribute2  Attribute3  Attribute4  Attribute5  Attribute6  \\\n",
      "0             0           6           4           4        1169           4   \n",
      "1             1          48           2           4        5951           0   \n",
      "2             3          12           4           7        2096           0   \n",
      "3             0          42           2           3        7882           0   \n",
      "4             0          24           3           0        4870           0   \n",
      "5             3          36           2           7        9055           4   \n",
      "6             3          24           2           3        2835           2   \n",
      "7             1          36           2           1        6948           0   \n",
      "8             3          12           2           4        3059           3   \n",
      "9             1          30           4           0        5234           0   \n",
      "10            1          12           2           0        1295           0   \n",
      "11            0          48           2           9        4308           0   \n",
      "12            1          12           2           4        1567           0   \n",
      "13            0          24           4           0        1199           0   \n",
      "14            0          15           2           0        1403           0   \n",
      "15            0          24           2           4        1282           1   \n",
      "16            3          24           4           4        2424           4   \n",
      "17            0          30           0           9        8072           4   \n",
      "18            1          24           2           1       12579           0   \n",
      "19            3          24           2           4        3430           2   \n",
      "20            3           9           4           0        2134           0   \n",
      "21            0           6           2           4        2647           2   \n",
      "22            0          10           4           0        2241           0   \n",
      "23            1          12           4           1        1804           1   \n",
      "24            3          10           4           3        2069           4   \n",
      "25            0           6           2           3        1374           0   \n",
      "26            3           6           0           4         426           0   \n",
      "27            2          12           1           4         409           3   \n",
      "28            1           7           2           4        2415           0   \n",
      "29            0          60           3           9        6836           0   \n",
      "..          ...         ...         ...         ...         ...         ...   \n",
      "770           0          24           2           1        2812           4   \n",
      "771           0          36           4           7        8065           0   \n",
      "772           3          21           4           1        3275           0   \n",
      "773           3          24           4           4        2223           1   \n",
      "774           2          12           4           0        1480           2   \n",
      "775           0          24           2           0        1371           4   \n",
      "776           3          36           4           0        3535           0   \n",
      "777           0          18           2           4        3509           0   \n",
      "778           3          36           4           1        5711           3   \n",
      "779           1          18           2           6        3872           0   \n",
      "780           1          39           4           4        4933           0   \n",
      "781           3          24           4           0        1940           3   \n",
      "782           1          12           0           8        1410           0   \n",
      "783           1          12           2           0         836           1   \n",
      "784           1          20           2           1        6468           4   \n",
      "785           1          18           2           9        1941           3   \n",
      "786           3          22           2           4        2675           2   \n",
      "787           3          48           4           1        2751           4   \n",
      "788           1          48           3           7        6224           0   \n",
      "789           0          40           4           7        5998           0   \n",
      "790           1          21           2           9        1188           0   \n",
      "791           3          24           2           1        6313           4   \n",
      "792           3           6           4           3        1221           4   \n",
      "793           2          24           2           3        2892           0   \n",
      "794           3          24           2           3        3062           2   \n",
      "795           3           9           2           3        2301           1   \n",
      "796           0          18           2           1        7511           4   \n",
      "797           3          12           4           3        1258           0   \n",
      "798           3          24           3           0         717           4   \n",
      "799           1           9           2           0        1549           4   \n",
      "\n",
      "     Attribute7  Attribute8  Attribute9  Attribute10  ...    Attribute13  \\\n",
      "0             4           4           2            0  ...             67   \n",
      "1             2           2           1            0  ...             22   \n",
      "2             3           2           2            0  ...             49   \n",
      "3             3           2           2            2  ...             45   \n",
      "4             2           3           2            0  ...             53   \n",
      "5             2           2           2            0  ...             35   \n",
      "6             4           3           2            0  ...             53   \n",
      "7             2           2           2            0  ...             35   \n",
      "8             3           2           0            0  ...             61   \n",
      "9             0           4           3            0  ...             28   \n",
      "10            1           3           1            0  ...             25   \n",
      "11            1           3           1            0  ...             24   \n",
      "12            2           1           1            0  ...             22   \n",
      "13            4           4           2            0  ...             60   \n",
      "14            2           2           1            0  ...             28   \n",
      "15            2           4           1            0  ...             32   \n",
      "16            4           4           2            0  ...             53   \n",
      "17            1           2           2            0  ...             25   \n",
      "18            4           4           1            0  ...             44   \n",
      "19            4           3           2            0  ...             31   \n",
      "20            2           4           2            0  ...             48   \n",
      "21            2           2           2            0  ...             44   \n",
      "22            1           1           2            0  ...             48   \n",
      "23            1           3           2            0  ...             44   \n",
      "24            2           2           3            0  ...             26   \n",
      "25            2           1           2            0  ...             36   \n",
      "26            4           4           3            0  ...             39   \n",
      "27            2           3           1            0  ...             42   \n",
      "28            2           3           2            2  ...             34   \n",
      "29            4           3           2            0  ...             63   \n",
      "..          ...         ...         ...          ...  ...            ...   \n",
      "770           4           2           1            0  ...             26   \n",
      "771           2           3           1            0  ...             25   \n",
      "772           4           1           2            0  ...             36   \n",
      "773           4           4           2            0  ...             52   \n",
      "774           0           2           2            0  ...             66   \n",
      "775           2           4           1            0  ...             25   \n",
      "776           3           4           2            0  ...             37   \n",
      "777           3           4           1            2  ...             25   \n",
      "778           4           4           2            0  ...             38   \n",
      "779           0           2           1            0  ...             67   \n",
      "780           3           2           2            2  ...             25   \n",
      "781           4           4           2            0  ...             60   \n",
      "782           2           2           2            0  ...             31   \n",
      "783           1           4           1            0  ...             23   \n",
      "784           0           1           0            0  ...             60   \n",
      "785           2           4           2            0  ...             35   \n",
      "786           4           3           2            0  ...             40   \n",
      "787           4           4           2            0  ...             38   \n",
      "788           4           4           2            0  ...             50   \n",
      "789           2           4           2            0  ...             27   \n",
      "790           4           2           1            0  ...             39   \n",
      "791           4           3           2            0  ...             41   \n",
      "792           2           1           3            0  ...             27   \n",
      "793           4           3           0            0  ...             51   \n",
      "794           4           4           2            0  ...             32   \n",
      "795           1           2           1            0  ...             22   \n",
      "796           4           1           2            0  ...             51   \n",
      "797           1           2           1            0  ...             22   \n",
      "798           4           4           3            0  ...             54   \n",
      "799           1           4           2            0  ...             35   \n",
      "\n",
      "     Attribute14  Attribute15  Attribute16  Attribute17  Attribute18  \\\n",
      "0              2            1            2            2            1   \n",
      "1              2            1            1            2            1   \n",
      "2              2            1            1            1            2   \n",
      "3              2            2            1            2            2   \n",
      "4              2            2            2            2            2   \n",
      "5              2            2            1            1            2   \n",
      "6              2            1            1            2            1   \n",
      "7              2            0            1            3            1   \n",
      "8              2            1            1            1            1   \n",
      "9              2            1            2            3            1   \n",
      "10             2            0            1            2            1   \n",
      "11             2            0            1            2            1   \n",
      "12             2            1            1            2            1   \n",
      "13             2            1            2            1            1   \n",
      "14             2            0            1            2            1   \n",
      "15             2            1            1            1            1   \n",
      "16             2            1            2            2            1   \n",
      "17             0            1            3            2            1   \n",
      "18             2            2            1            3            1   \n",
      "19             2            1            1            2            2   \n",
      "20             2            1            3            2            1   \n",
      "21             2            0            1            2            2   \n",
      "22             2            0            2            1            2   \n",
      "23             2            1            1            2            1   \n",
      "24             2            1            2            2            1   \n",
      "25             0            1            1            1            1   \n",
      "26             2            1            1            1            1   \n",
      "27             2            0            2            2            1   \n",
      "28             2            1            1            2            1   \n",
      "29             2            1            2            2            1   \n",
      "..           ...          ...          ...          ...          ...   \n",
      "770            2            0            1            2            1   \n",
      "771            2            1            2            3            1   \n",
      "772            2            1            1            3            1   \n",
      "773            0            1            2            2            1   \n",
      "774            0            2            3            0            1   \n",
      "775            2            0            1            2            1   \n",
      "776            2            1            2            2            1   \n",
      "777            2            1            1            2            1   \n",
      "778            2            1            2            3            1   \n",
      "779            2            1            1            2            1   \n",
      "780            2            1            2            2            1   \n",
      "781            2            1            1            2            1   \n",
      "782            2            1            1            1            1   \n",
      "783            0            1            1            1            1   \n",
      "784            2            1            1            3            1   \n",
      "785            2            1            1            1            1   \n",
      "786            2            1            1            2            1   \n",
      "787            2            1            2            2            2   \n",
      "788            2            2            1            2            1   \n",
      "789            0            1            1            2            1   \n",
      "790            2            1            1            2            2   \n",
      "791            2            1            1            3            2   \n",
      "792            2            1            2            2            1   \n",
      "793            2            2            1            2            1   \n",
      "794            2            0            1            2            1   \n",
      "795            2            0            1            2            1   \n",
      "796            2            2            1            2            2   \n",
      "797            2            0            2            1            1   \n",
      "798            2            1            2            2            1   \n",
      "799            2            1            1            0            1   \n",
      "\n",
      "     Attribute19  Attribute20  Label     Id  \n",
      "0              1            0      1  10101  \n",
      "1              0            0      2  10102  \n",
      "2              0            0      1  10103  \n",
      "3              0            0      1  10104  \n",
      "4              0            0      2  10105  \n",
      "5              1            0      1  10106  \n",
      "6              0            0      1  10107  \n",
      "7              1            0      1  10108  \n",
      "8              0            0      1  10109  \n",
      "9              0            0      2  10110  \n",
      "10             0            0      2  10111  \n",
      "11             0            0      2  10112  \n",
      "12             1            0      1  10113  \n",
      "13             0            0      2  10114  \n",
      "14             0            0      1  10115  \n",
      "15             0            0      2  10116  \n",
      "16             0            0      1  10117  \n",
      "17             0            0      1  10118  \n",
      "18             1            0      2  10119  \n",
      "19             1            0      1  10120  \n",
      "20             1            0      1  10121  \n",
      "21             0            0      1  10122  \n",
      "22             0            1      1  10123  \n",
      "23             0            0      1  10124  \n",
      "24             0            1      1  10125  \n",
      "25             1            0      1  10126  \n",
      "26             0            0      1  10127  \n",
      "27             0            0      1  10128  \n",
      "28             0            0      1  10129  \n",
      "29             1            0      2  10130  \n",
      "..           ...          ...    ...    ...  \n",
      "770            0            0      1  10871  \n",
      "771            1            0      2  10872  \n",
      "772            1            0      1  10873  \n",
      "773            0            0      1  10874  \n",
      "774            0            0      1  10875  \n",
      "775            0            0      2  10876  \n",
      "776            1            0      1  10877  \n",
      "777            0            0      1  10878  \n",
      "778            1            0      1  10879  \n",
      "779            1            0      1  10880  \n",
      "780            0            0      2  10881  \n",
      "781            1            0      1  10882  \n",
      "782            1            0      1  10883  \n",
      "783            0            0      2  10884  \n",
      "784            1            0      1  10885  \n",
      "785            1            0      1  10886  \n",
      "786            0            0      1  10887  \n",
      "787            1            0      1  10888  \n",
      "788            0            0      2  10889  \n",
      "789            1            0      2  10890  \n",
      "790            0            0      2  10891  \n",
      "791            1            0      1  10892  \n",
      "792            0            0      1  10893  \n",
      "793            0            0      1  10894  \n",
      "794            1            0      1  10895  \n",
      "795            0            0      1  10896  \n",
      "796            1            0      2  10897  \n",
      "797            0            0      1  10898  \n",
      "798            1            0      1  10899  \n",
      "799            0            0      1  10900  \n",
      "\n",
      "[800 rows x 22 columns]\n"
     ]
    }
   ],
   "source": [
    "categories = [\"Attribute1\",\"Attribute3\",\"Attribute4\",\"Attribute6\",\"Attribute7\",\"Attribute9\",\"Attribute10\",\"Attribute10\",\"Attribute12\",\"Attribute14\",\"Attribute15\", \"Attribute17\", \"Attribute19\",\"Attribute20\"]\n",
    "\n",
    "proccessedData_train = Train_data.copy()\n",
    "proccessedData_test = Test_data.copy()\n",
    "for x in categories:\n",
    "    converted = pd.Categorical(Train_data[x])\n",
    "    proccessedData_train[x] = converted.codes\n",
    "    converted_test = pd.Categorical(Test_data[x])\n",
    "    proccessedData_test[x] = converted_test.codes\n",
    "    \n",
    "print(proccessedData_train)"
   ]
  },
  {
   "cell_type": "markdown",
   "metadata": {},
   "source": [
    "### Our gain calculation"
   ]
  },
  {
   "cell_type": "code",
   "execution_count": 22,
   "metadata": {
    "collapsed": true
   },
   "outputs": [],
   "source": [
    "def get_number_of_Good(data):\n",
    "    return  len(data[data[\"Label\"]==1])\n",
    "def get_number_of_Bad(data):\n",
    "    return  len(data[data[\"Label\"]==2])"
   ]
  },
  {
   "cell_type": "markdown",
   "metadata": {},
   "source": [
    "### Our entropy calculation function"
   ]
  },
  {
   "cell_type": "code",
   "execution_count": 23,
   "metadata": {
    "collapsed": true
   },
   "outputs": [],
   "source": [
    "def entropy(data):\n",
    "    \n",
    "    if(data.shape[0]==0): #se periptwsh pou to dataset einai adeio\n",
    "        return 0\n",
    "\n",
    "    good_percent = get_number_of_Good(data) /data.shape[0]\n",
    "    bad_percent = get_number_of_Bad(data)/data.shape[0]\n",
    "    good_entropy =0.0\n",
    "    if(get_number_of_Good(data)>0):\n",
    "        good_entropy = -(good_percent*log(good_percent, 2))\n",
    "    bad_entropy =0.0\n",
    "    if(get_number_of_Bad(data)>0):\n",
    "        bad_entropy = -(bad_percent*log(bad_percent, 2))\n",
    "    entropy = good_entropy+bad_entropy\n",
    "    return entropy"
   ]
  },
  {
   "cell_type": "code",
   "execution_count": 24,
   "metadata": {
    "collapsed": false
   },
   "outputs": [
    {
     "ename": "ValueError",
     "evalue": "math domain error",
     "output_type": "error",
     "traceback": [
      "\u001b[0;31m---------------------------------------------------------------------------\u001b[0m",
      "\u001b[0;31mValueError\u001b[0m                                Traceback (most recent call last)",
      "\u001b[0;32m<ipython-input-24-f959520fc1e0>\u001b[0m in \u001b[0;36m<module>\u001b[0;34m()\u001b[0m\n\u001b[0;32m----> 1\u001b[0;31m \u001b[0;32mprint\u001b[0m\u001b[0;34m(\u001b[0m\u001b[0mentropy\u001b[0m\u001b[0;34m(\u001b[0m\u001b[0mTrain_data\u001b[0m\u001b[0;34m)\u001b[0m\u001b[0;34m)\u001b[0m \u001b[0;31m#entropy for the hole dataset\u001b[0m\u001b[0;34m\u001b[0m\u001b[0m\n\u001b[0m",
      "\u001b[0;32m<ipython-input-23-39f4a22f5a0c>\u001b[0m in \u001b[0;36mentropy\u001b[0;34m(data)\u001b[0m\n\u001b[1;32m      8\u001b[0m     \u001b[0mgood_entropy\u001b[0m \u001b[0;34m=\u001b[0m\u001b[0;36m0.0\u001b[0m\u001b[0;34m\u001b[0m\u001b[0m\n\u001b[1;32m      9\u001b[0m     \u001b[0;32mif\u001b[0m\u001b[0;34m(\u001b[0m\u001b[0mget_number_of_Good\u001b[0m\u001b[0;34m(\u001b[0m\u001b[0mdata\u001b[0m\u001b[0;34m)\u001b[0m\u001b[0;34m>\u001b[0m\u001b[0;36m0\u001b[0m\u001b[0;34m)\u001b[0m\u001b[0;34m:\u001b[0m\u001b[0;34m\u001b[0m\u001b[0m\n\u001b[0;32m---> 10\u001b[0;31m         \u001b[0mgood_entropy\u001b[0m \u001b[0;34m=\u001b[0m \u001b[0;34m-\u001b[0m\u001b[0;34m(\u001b[0m\u001b[0mgood_percent\u001b[0m\u001b[0;34m*\u001b[0m\u001b[0mlog\u001b[0m\u001b[0;34m(\u001b[0m\u001b[0mgood_percent\u001b[0m\u001b[0;34m,\u001b[0m \u001b[0;36m2\u001b[0m\u001b[0;34m)\u001b[0m\u001b[0;34m)\u001b[0m\u001b[0;34m\u001b[0m\u001b[0m\n\u001b[0m\u001b[1;32m     11\u001b[0m     \u001b[0mbad_entropy\u001b[0m \u001b[0;34m=\u001b[0m\u001b[0;36m0.0\u001b[0m\u001b[0;34m\u001b[0m\u001b[0m\n\u001b[1;32m     12\u001b[0m     \u001b[0;32mif\u001b[0m\u001b[0;34m(\u001b[0m\u001b[0mget_number_of_Bad\u001b[0m\u001b[0;34m(\u001b[0m\u001b[0mdata\u001b[0m\u001b[0;34m)\u001b[0m\u001b[0;34m>\u001b[0m\u001b[0;36m0\u001b[0m\u001b[0;34m)\u001b[0m\u001b[0;34m:\u001b[0m\u001b[0;34m\u001b[0m\u001b[0m\n",
      "\u001b[0;31mValueError\u001b[0m: math domain error"
     ]
    }
   ],
   "source": [
    "print(entropy(Train_data)) #entropy for the hole dataset"
   ]
  },
  {
   "cell_type": "code",
   "execution_count": null,
   "metadata": {
    "collapsed": true
   },
   "outputs": [],
   "source": [
    "def get_attribute_values(data):#synarthsh pou epistrefei ta values enos attribute\n",
    "    values = []\n",
    "    for x in data:\n",
    "        #print(x)\n",
    "        if(x not in values ):\n",
    "            values.append(x)\n",
    "    return values"
   ]
  },
  {
   "cell_type": "code",
   "execution_count": null,
   "metadata": {
    "collapsed": false
   },
   "outputs": [],
   "source": [
    "\n",
    "features = list(Train_data.columns.values)\n",
    "features.remove('Id')\n",
    "features.remove('Label')\n",
    "\n",
    "#kanw ta attribute ayta categorical ['Attribute2', 'Attribute5', 'Attribute13']\n",
    "#den kanoume kai ta alla (numerical)attribute dioti exoun to poly 4 diaforetikes times kai emeis theloume na exoume 5 kathgories\n",
    "\n",
    "Train_data['Attribute2']= pd.qcut(Train_data['Attribute2'], 5, labels=[\"Attribute2_A\",\"Attribute2_B\",\"Attribute2_C\",\"Attribute2_D\",\"Attribute2_E\"])\n",
    "Train_data['Attribute5']= pd.qcut(Train_data['Attribute5'], 5, labels=[\"Attribute5_A\",\"Attribute5_B\",\"Attribute5_C\",\"Attribute5_D\",\"Attribute5_E\"])\n",
    "Train_data['Attribute13']= pd.qcut(Train_data['Attribute13'], 5, labels=[\"Attribute13_A\",\"Attribute13_B\",\"Attribute13_C\",\"Attribute13_D\",\"Attribute13_E\"])\n",
    "\n",
    "InformationGain_list = []\n",
    "for Attribute in features:\n",
    "    Attribute_values = get_attribute_values(Train_data[Attribute])\n",
    "    attr_entropy = 0.0\n",
    "    for value in Attribute_values:#for every value in Attribute values\n",
    "        value_set= Train_data[Train_data[Attribute]==value]\n",
    "        attr_entropy += (len(value_set)/(len(Train_data)))*entropy(value_set)  #ypologizoume to athrisma tou percetage(tou value) * entropy (tou value)\n",
    "    attr_information_gain = entropy(Train_data)-attr_entropy\n",
    "    InformationGain_list.append((Attribute,attr_information_gain))\n",
    "#print(\"Infomation Gain List(of all attributes ):\\n\\n\",InformationGain_list)\n",
    "InformationGain_list"
   ]
  },
  {
   "cell_type": "code",
   "execution_count": null,
   "metadata": {
    "collapsed": false
   },
   "outputs": [],
   "source": [
    "print(sorted(InformationGain_list, key=lambda tup: tup[1]) )\n",
    "InformationGain_list = sorted(InformationGain_list, key=lambda tup: tup[1])\n",
    "InformationGain_list"
   ]
  },
  {
   "cell_type": "code",
   "execution_count": null,
   "metadata": {
    "collapsed": true
   },
   "outputs": [],
   "source": [
    "RANDOM_STATE = 123\n",
    "\n",
    "rndf = RandomForestClassifier(warm_start=False, oob_score=False, max_features=\"sqrt\", random_state=RANDOM_STATE)"
   ]
  },
  {
   "cell_type": "code",
   "execution_count": null,
   "metadata": {
    "collapsed": false
   },
   "outputs": [],
   "source": [
    "count = len(InformationGain_list)\n",
    "average_accuracy_list=[]\n",
    "average_accuracy_list_tuples = []\n",
    "average_accuracy_list_accuracy =[]\n",
    "average_accuracy_list_number_attributes = []\n",
    "my_df = proccessedData_train\n",
    "exclude = ['Id','Label']\n",
    "\n",
    "for attr in InformationGain_list:#gia kathe stoixeio sthn InformationGain_list afairw panta to prwto (dhladh ayto me to mikrotero information_gain afou thn exw sortarei)\n",
    "    print(\"count == \",count)\n",
    "    \n",
    "    excl = my_df.columns.difference(exclude)\n",
    "    \n",
    "    new_df_to_use  = my_df[excl]\n",
    "    #efarmozoume cross validation gia kathe attribute pou kanoume exclude\n",
    "    average_accuracy = cross_validate(rndf,new_df_to_use,proccessedData_train['Label'])\n",
    "    average_accuracy_list.append((average_accuracy,count) )#to meiwn 2 gt sthn lista exclude einai hdh ta 'Id' 'Label    \n",
    "    average_accuracy_list_accuracy.append(average_accuracy)\n",
    "    average_accuracy_list_number_attributes.append(count)\n",
    "    exclude.append(str(attr[0]))\n",
    "\n",
    "    count -= 1\n",
    "    \n",
    "    if(count == -1):\n",
    "        break;"
   ]
  },
  {
   "cell_type": "code",
   "execution_count": null,
   "metadata": {
    "collapsed": false
   },
   "outputs": [],
   "source": [
    "print(average_accuracy_list)"
   ]
  },
  {
   "cell_type": "code",
   "execution_count": null,
   "metadata": {
    "collapsed": false
   },
   "outputs": [],
   "source": [
    "print(average_accuracy_list_number_attributes)"
   ]
  },
  {
   "cell_type": "code",
   "execution_count": null,
   "metadata": {
    "collapsed": false
   },
   "outputs": [],
   "source": [
    "print(average_accuracy_list_accuracy)"
   ]
  },
  {
   "cell_type": "code",
   "execution_count": null,
   "metadata": {
    "collapsed": false
   },
   "outputs": [],
   "source": [
    "plt1.title('Accuracy Plot')\n",
    "\n",
    "plt1.plot(average_accuracy_list_number_attributes, average_accuracy_list_accuracy)\n",
    "plt1.ylabel('Accuracy')\n",
    "plt1.xlabel('Number of Attributes')\n",
    "plt1.show()"
   ]
  },
  {
   "cell_type": "markdown",
   "metadata": {},
   "source": [
    "## The matrix of the features that we chose to remove in each repetition"
   ]
  },
  {
   "cell_type": "code",
   "execution_count": null,
   "metadata": {
    "collapsed": false
   },
   "outputs": [],
   "source": [
    "for x in InformationGain_list:\n",
    "    print(x[0],\"\\t\",x[1])"
   ]
  },
  {
   "cell_type": "markdown",
   "metadata": {},
   "source": [
    "# We find the max accuracy "
   ]
  },
  {
   "cell_type": "code",
   "execution_count": null,
   "metadata": {
    "collapsed": false
   },
   "outputs": [],
   "source": [
    "max_acc= average_accuracy_list[0][0] #h megisth accuracy\n",
    "max_features = average_accuracy_list[0][1] #metablhth pou kratame to posa features htan mesa\n",
    "for x in average_accuracy_list:\n",
    "    if(x[0] >max_acc ):\n",
    "        max_features= x[1] \n",
    "        max_acc = x[0]\n",
    "print(max_acc,max_features)"
   ]
  },
  {
   "cell_type": "markdown",
   "metadata": {},
   "source": [
    "### The testSet_Predictions.csv implementation"
   ]
  },
  {
   "cell_type": "markdown",
   "metadata": {},
   "source": [
    "We base our implementation on the best classifier and the best number of features."
   ]
  },
  {
   "cell_type": "code",
   "execution_count": null,
   "metadata": {
    "collapsed": false
   },
   "outputs": [],
   "source": [
    "count = len(InformationGain_list)\n",
    "my_df = proccessedData_train\n",
    "exclude = ['Id','Label']\n",
    "for attr in InformationGain_list:\n",
    "    print(\"count == \",count)\n",
    "    exclude.append(str(attr[0]))\n",
    "    count-=1\n",
    "    if(count == max_features):\n",
    "        print(excl)\n",
    "        break;\n",
    " \n",
    "excl = my_df.columns.difference(exclude)\n",
    "print(excl)\n",
    "new_train_data  = my_df[excl] #tous afairw ta attributes pou xreiazetai\n",
    "new_test_data = my_df[excl]"
   ]
  },
  {
   "cell_type": "markdown",
   "metadata": {},
   "source": [
    "## Random Forest (RF) Classification"
   ]
  },
  {
   "cell_type": "code",
   "execution_count": null,
   "metadata": {
    "collapsed": true
   },
   "outputs": [],
   "source": [
    "RANDOM_STATE = 123\n",
    "rndf= RandomForestClassifier() \n",
    "clf_cv = rndf.fit(new_train_data, target)\n",
    "predicted = clf_cv.predict(new_test_data)"
   ]
  },
  {
   "cell_type": "code",
   "execution_count": null,
   "metadata": {
    "collapsed": false
   },
   "outputs": [],
   "source": [
    "print(predicted)"
   ]
  },
  {
   "cell_type": "code",
   "execution_count": null,
   "metadata": {
    "collapsed": true
   },
   "outputs": [],
   "source": [
    "testSet = {'Client_ID':[],'Predicted_Label':[]}\n",
    "label_dict = {'1':\"Good\" , '2':\"Bad\"}\n",
    "counter = 1 \n",
    "for x in predicted:\n",
    "    testSet['Client_ID'].append(counter)\n",
    "    counter+=1\n",
    "    testSet['Predicted_Label'].append(str(label_dict[str(x)]))"
   ]
  },
  {
   "cell_type": "code",
   "execution_count": null,
   "metadata": {
    "collapsed": false
   },
   "outputs": [],
   "source": [
    "testSetpd = pd.DataFrame(data=testSet)\n",
    "testSetcsv=testSetpd.ix[::, ['Client_ID', 'Predicted_Label']]\n",
    "\n",
    "testSetpd"
   ]
  },
  {
   "cell_type": "code",
   "execution_count": null,
   "metadata": {
    "collapsed": true
   },
   "outputs": [],
   "source": [
    "testSetcsv.to_csv(path_or_buf='testSet_Predictions.csv', sep = '\\t')"
   ]
  },
  {
   "cell_type": "code",
   "execution_count": null,
   "metadata": {
    "collapsed": true
   },
   "outputs": [],
   "source": []
  }
 ],
 "metadata": {
  "kernelspec": {
   "display_name": "Python 2",
   "language": "python",
   "name": "python2"
  },
  "language_info": {
   "codemirror_mode": {
    "name": "ipython",
    "version": 2
   },
   "file_extension": ".py",
   "mimetype": "text/x-python",
   "name": "python",
   "nbconvert_exporter": "python",
   "pygments_lexer": "ipython2",
   "version": "2.7.13"
  }
 },
 "nbformat": 4,
 "nbformat_minor": 2
}
